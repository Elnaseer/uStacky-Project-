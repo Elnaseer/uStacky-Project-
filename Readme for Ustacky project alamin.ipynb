{
 "cells": [
  {
   "cell_type": "markdown",
   "metadata": {},
   "source": [
    "# Analyze Supermarket Data Across the Country - Company XYZ"
   ]
  },
  {
   "cell_type": "markdown",
   "metadata": {},
   "source": [
    "## Description"
   ]
  },
  {
   "cell_type": "markdown",
   "metadata": {},
   "source": [
    "Company XYZ owns a supermarket chain across the country. With major branches located in Abuja, Lagos and Port Harcout which recorded sales information for 3 months (Between January and March, 2019), This analysis is to help the company understand sales trends and determine its growth, as the rise of supermarkets competition is seen to increase."
   ]
  },
  {
   "cell_type": "markdown",
   "metadata": {},
   "source": [
    "# Project Steps "
   ]
  },
  {
   "cell_type": "markdown",
   "metadata": {},
   "source": [
    "## Step 1 - Loading the Dataset and the Libraries"
   ]
  },
  {
   "cell_type": "markdown",
   "metadata": {},
   "source": [
    "- All the required libaries were loaded individually using the import function  \n",
    "- Use of pathname pattern - glob to select the CSV files to be uploaded\n",
    "- The files (csv) that contains sales record of each branches of Company-xyz were uploaded automatically from the directory and the files were joined together using the pd.concat function to become a single dataframe and exported as a CSV.\n"
   ]
  },
  {
   "cell_type": "markdown",
   "metadata": {},
   "source": [
    "## Step 2 - Data Exploration"
   ]
  },
  {
   "cell_type": "markdown",
   "metadata": {},
   "source": [
    "Basic information about the data was then explored and obtained such as:\n",
    "- The top rows and columns using the head() method\n",
    "- The shape of dataframe using df.shape\n",
    "- The names of the Columns in dataframe using df.columns\n",
    "- The statistical summary of quantitative variables in dataframe using df.describe()\n",
    "- The presence of missing values using df.isnull() or df.notna()\n",
    "- Other infomation about dataframe using df.info()\n"
   ]
  },
  {
   "cell_type": "markdown",
   "metadata": {},
   "source": [
    "## Step 3 - Feature Engineering "
   ]
  },
  {
   "cell_type": "markdown",
   "metadata": {},
   "source": [
    "Dealt with DateTime Features by;\n",
    "- Converting Date column to DateTime datatype using pd.to_datetime()\n",
    "- Converting Time column to DateTime datatype using pd.to_datetime()\n",
    "- Extracting Day, Month and Year from the Date column and creating a new columns for them separately \n",
    "- Extracting Hour from Time column and creating a new Hour column\n",
    "- Finding the numbers of unique hours of sales using nunique() and generating an array of them using np.unique\n",
    "\n"
   ]
  },
  {
   "cell_type": "markdown",
   "metadata": {},
   "source": [
    "## Step 4 - Data Analysis "
   ]
  },
  {
   "cell_type": "markdown",
   "metadata": {},
   "source": [
    "Unique Values in Columns and Aggregation with GroupBy\n",
    "- Got a list of all categorical columns using df.unique().tolist() from Invoice ID to Payment\n",
    "- Obtained a count of items in unique categorical columns using df.value_counts() from Invoice ID to Payment\n",
    "- Using df.groupby().mean() and df.groupby().sum() I aggregated the dataframe for Sum and Mean and created a GroupBy object for City\n",
    "- Displayed a table for Gross Income of each city and determined the highest\n",
    "- Used the appropriate methods and explored Price Unit, Rating and Quantity columns respectively\n"
   ]
  },
  {
   "cell_type": "markdown",
   "metadata": {},
   "source": [
    "## Step 5 - Data Visualization"
   ]
  },
  {
   "cell_type": "markdown",
   "metadata": {},
   "source": [
    "- Employed countplot() to find the Branch with the highest sales record\n",
    "- Used countplot() and determined the most used Payment method and City with the most sales\n",
    "- Uncovered Total gross income for the cities using barplot()\n",
    "- Finds out the City with the highest rating by Gender using barplot()\n",
    "- Used countplot() to discover the highest and lowest sold Product Line\n",
    "- Observed the Product Line and its corresponding Payment method using countplot()\n",
    "- Using countplot()I determined the Payment channel for each Branch\n",
    "- Checked Customer type by Gender using countplot() \n",
    "- Discovered Gender type in Branches using countplot()\n",
    "- Figured out the Branch with lowest Rating using boxplot()\n",
    "- Used catplot() I plotted the Product Line and Quantity and hue it with Gender\n",
    "- Used catplot() I plotted the Product Line and Total Price and hue it with Gender\n",
    "- Explored interaction of Product Line on The Total Purchased by Gender using catplot()\n",
    "- Explored interaction of Product Line on The Quantity Purchased by Gender using catplot()\n",
    "- Plotted Gross income by Product line by using barplot()\n",
    "- Used swarm plot to figure out the relationship between Product line and Time of purchase in each Branch\n",
    "- Used sawrm plot to figure out the relationship between Rating and Customer type in each Branch\n"
   ]
  },
  {
   "cell_type": "markdown",
   "metadata": {},
   "source": [
    "## Step 6 - Insights"
   ]
  },
  {
   "cell_type": "markdown",
   "metadata": {},
   "source": [
    "- The company unique sales hour are eleven; 10, 11, 12, 13, 14, 15, 16, 17, 18, 19 and 20\n",
    "- Total number of unique values in the Branch Column is 3 which are A, B and C\n",
    "- The following hours are the time of highest sales 10, 13, 16 and 19, with the most sales at hour 19\n",
    "- The City with the Highest Sales record is Lagos between January to March. 2019\n",
    "- The City with the highest total Gross income is Port-Harcout with 1,895,463.54. followed by Lagos then Abuja\n",
    "- Epay is slightly the most used payment methods followed closely by Cash. Card is the least used \n",
    "- Lagos has the highest Gross margin percentage between January to March. 2019\n",
    "- Abuja has the lowest rating\n",
    "- Lagos has the highest total rating \n",
    "- E-pay is the most frequent Payment channel in Lagos\n",
    "- Most of the Paymet of Electronics is by cash and its by Epay in Fashion and Home appliances\n",
    "- Card Payment is the most frequent payment channel in Abuja \n",
    "- Cash Payment is the most frequent payment channel in Port Harcout\n",
    "- Females purchased and spends much more on Food and beverages and Fashion accessories and also Home and lifestyle\n",
    "- Male purchased and spends much on Health and Beauty and Electronic accessories\n",
    "- Fashin and accessories records more sales between January to March. 2019\n",
    "- The Female purchased more Quantity of goods with lower Unit price\n",
    "- The Male purchased more quantity of goods with higher unit prices\n",
    "- The Product line with the highest sales is Food and Beverages then Fashion accessories \n",
    "- The Gross income of Port Harcout comes from Food and Beverages, Electronic accessories, and Sports and travel products\n",
    "- The Gross income of Abuja comes from Health and Beauty & Home and lifestyle products \n",
    "- Lagos Gross income prime time is 19h between January to March. 2019\n",
    "- Port Harcout Gross income prime time is from 18h-20h between January to March. 2019\n",
    "- Abuja Gross income prime time is 17h between January to March. 2019\n"
   ]
  },
  {
   "cell_type": "markdown",
   "metadata": {},
   "source": [
    "## Future Work"
   ]
  },
  {
   "cell_type": "markdown",
   "metadata": {},
   "source": [
    "- Calculate and plot the average number of unit price per customer type\n",
    "- Perform an independent t-test between Gender and Costumer type i.e. the unit price for member; \n",
    "Female and Male [are/are not] significantly higher than unit price Normal; Female and Male"
   ]
  },
  {
   "cell_type": "markdown",
   "metadata": {},
   "source": [
    "## Standout Section"
   ]
  },
  {
   "cell_type": "markdown",
   "metadata": {},
   "source": [
    "This analysis include many standout sections particularly in Section 6 such as; \n",
    "- Determining the branch with the highest sales record\n",
    "- Exploring Payment Channel according to City \n",
    "- Uncovering Total gross income\n",
    "- Discovering the highest & lowest sold product line\n",
    "- Plotting the product line and quantity and hue it with gender\n",
    "- Exploring interactions and relationships of Product Line on The Quantity Purchased by Gender and Product line and Time of purchase in each Branch"
   ]
  },
  {
   "cell_type": "code",
   "execution_count": null,
   "metadata": {},
   "outputs": [],
   "source": []
  }
 ],
 "metadata": {
  "kernelspec": {
   "display_name": "Python 3",
   "language": "python",
   "name": "python3"
  },
  "language_info": {
   "codemirror_mode": {
    "name": "ipython",
    "version": 3
   },
   "file_extension": ".py",
   "mimetype": "text/x-python",
   "name": "python",
   "nbconvert_exporter": "python",
   "pygments_lexer": "ipython3",
   "version": "3.8.5"
  }
 },
 "nbformat": 4,
 "nbformat_minor": 4
}
